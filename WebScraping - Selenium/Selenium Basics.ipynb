{
 "cells": [
  {
   "cell_type": "code",
   "execution_count": 2,
   "metadata": {},
   "outputs": [],
   "source": [
    "from selenium import webdriver\n",
    "from selenium.webdriver.common.action_chains import ActionChains\n",
    "from selenium.webdriver.common.keys import Keys\n",
    "from time import sleep"
   ]
  },
  {
   "cell_type": "code",
   "execution_count": 21,
   "metadata": {},
   "outputs": [],
   "source": [
    "# driver = webdriver.Chrome(\"C:\\Program Files (x86)\\chromedriver.exe\")\n",
    "# driver.get(\"https://google.com\")\n",
    "# search = driver.find_element_by_name(\"q\")\n",
    "# search_text = input(\"Enter the search string: \")\n",
    "# search.send_keys(search_text)\n",
    "# search.send_keys(Keys.RETURN)\n",
    "# sleep(2)\n",
    "# driver.find_element_by_xpath(\"/html/body/div[7]/div[2]/div[9]/div[2]/div/div[2]/div[2]/div/div/div[1]/div/div[1]/a/h3/span\").click()"
   ]
  },
  {
   "cell_type": "code",
   "execution_count": 29,
   "metadata": {},
   "outputs": [
    {
     "name": "stdout",
     "output_type": "stream",
     "text": [
      "Enter the search string: test\n",
      "Article - 1\n",
      "HTTP MethodsIn this tutorial we will talk about HTTP methods. HTTP methods are the standard way of sending information to and from a web server. To break it down, a website runs on a server or multiple servers and simple returns information to a client (web-browser). Information is exchanged between the client and the server […]\n",
      "________________________________________________________________________________________________________\n",
      "Article - 2\n",
      "Creating a Base Template So you may have realized that creating new web pages for every single page on our website is extremely inefficient. Especially when our website follows a theme and has similar elements (like a sidebar) on every page. This is where template inheritance comes in. We will talk about how to inherit […]\n",
      "________________________________________________________________________________________________________\n",
      "Article - 3\n",
      "Redirecting ContinuedStarting from where we left off in the last tutorial. I wanted to show how to redirect to a function that takes an argument (like our user function). To do this we simply need to define the parameter name and a value in the url_for function, like below.from flask import Flask, redirect, url_for app […]\n",
      "________________________________________________________________________________________________________\n",
      "Article - 4\n",
      "What is Flask?Flask is a known as a micro web framework. This means it provides some basic functionality to allow developers to build simple websites. It does not come with all the bells and whistles like some other web frameworks like django have and therefore is typically not used for complex websites. However, there is […]\n",
      "________________________________________________________________________________________________________\n",
      "Article - 5\n",
      "Up until this point we have only been able to get events the next upcoming events from our google calendar. In this tutorial I will show you how you can retrieve a list of events that occur in one day. Using Pyttsx3 In the previous tutorials we used gTTS (Google Text-to-Speech) to output audio and […]\n",
      "________________________________________________________________________________________________________\n",
      "Article - 6\n",
      "In this tutorial we will finish our get_date() function and test it out! PLEASE USE THE CODE BELOW, IT FIXES SOME ERRORS FROM THE VIDEO ABOVE Finishing get_date() Now that we have extracted the information from the text it’s time to process it. There are a few scenarios we need to consider: 1. We have […]\n",
      "________________________________________________________________________________________________________\n",
      "Article - 7\n",
      "Getting User Input In the last tutorial we learned how to output sound from our python script using the gTTS module. In this video we will do the opposite, we will get user input and turn it into text data that we can process. Let’s get started by creating a function called get_audio. def get_audio(): […]\n",
      "________________________________________________________________________________________________________\n",
      "Article - 8\n",
      "This PyQt5 Tutorial will show you how to create message boxes/popup windows using pyqt. We will use the QMessageBox class to accomplish this. Creating a Basic GUI I’ve started this tutorial by creating a very minimal GUI that contains one button. This way we can use the button press to trigger a popup/mesagebox. This is […]\n",
      "________________________________________________________________________________________________________\n",
      "Article - 9\n",
      "This PyQt5 Combobox tutorial will show how to create, use and manipulate comboboxes. For those of you unaware a combobox is a box that allows you to choose an item from a list of choices. Creating The GUI For this tutorial we will create a GUI that can simulate the XOR function. We will use […]\n",
      "________________________________________________________________________________________________________\n",
      "Article - 10\n",
      "This PyQt5 tutorial will show you how to display images using something called a QPixmap. Displaying an Image For this tutorial we will create an image using PyQt Designer and then change them image source from our python code. To display an image we can actually use a label! We will start by dragging in […]\n",
      "________________________________________________________________________________________________________\n"
     ]
    }
   ],
   "source": [
    "driver = webdriver.Chrome(\"C:\\Program Files (x86)\\chromedriver.exe\")\n",
    "driver.get(\"https://techwithtim.net\")\n",
    "sleep(2)\n",
    "search = driver.find_element_by_name(\"s\")\n",
    "search_text = input(\"Enter the search string: \")\n",
    "search.send_keys(search_text)\n",
    "search.send_keys(Keys.RETURN)\n",
    "articles = driver.find_elements_by_class_name(\"entry-summary\")\n",
    "n=1\n",
    "for article in articles:\n",
    "    print(f\"Article - {n}\")\n",
    "    print(article.text)\n",
    "    print(\"________________________________________________________________________________________________________\")\n",
    "    n+=1"
   ]
  },
  {
   "cell_type": "code",
   "execution_count": 6,
   "metadata": {},
   "outputs": [],
   "source": [
    "driver = webdriver.Chrome(\"C:\\Program Files (x86)\\chromedriver.exe\")\n",
    "driver.get(\"https://techwithtim.net\")\n",
    "actions = ActionChains(driver)\n",
    "driver.find_element_by_link_text(\"Python Programming\").click()\n",
    "actions.click()\n",
    "actions.perform()\n",
    "sleep(2)\n",
    "driver.find_element_by_link_text(\"Beginner Python Tutorials\").click()\n",
    "sleep(2)\n",
    "driver.find_element_by_id(\"sow-button-19310003\").click()\n"
   ]
  },
  {
   "cell_type": "code",
   "execution_count": null,
   "metadata": {},
   "outputs": [],
   "source": []
  }
 ],
 "metadata": {
  "kernelspec": {
   "display_name": "py3.8.5",
   "language": "python",
   "name": "py3.8.5"
  },
  "language_info": {
   "codemirror_mode": {
    "name": "ipython",
    "version": 3
   },
   "file_extension": ".py",
   "mimetype": "text/x-python",
   "name": "python",
   "nbconvert_exporter": "python",
   "pygments_lexer": "ipython3",
   "version": "3.8.5"
  }
 },
 "nbformat": 4,
 "nbformat_minor": 4
}
