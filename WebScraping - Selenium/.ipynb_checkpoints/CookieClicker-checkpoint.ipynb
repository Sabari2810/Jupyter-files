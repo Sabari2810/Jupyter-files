{
 "cells": [
  {
   "cell_type": "code",
   "execution_count": 20,
   "metadata": {},
   "outputs": [],
   "source": [
    "from selenium import webdriver\n",
    "from selenium.webdriver.common.action_chains import ActionChains\n",
    "from selenium.webdriver.common.keys import Keys\n",
    "from time import sleep\n",
    "import urllib"
   ]
  },
  {
   "cell_type": "code",
   "execution_count": 10,
   "metadata": {},
   "outputs": [],
   "source": [
    "driver = webdriver.Chrome(\"C:\\Program Files (x86)\\chromedriver.exe\")\n",
    "driver.get(\"https://orteil.dashnet.org/cookieclicker/\")\n",
    "\n",
    "driver.implicitly_wait(5)\n",
    "\n",
    "cookie = driver.find_element_by_id(\"bigCookie\")\n",
    "cookie_count = driver.find_element_by_id(\"cookies\")\n",
    "items = [driver.find_element_by_id(\"productPrice\"+ str(i)) for i in range(1,-1,-1)]\n",
    "\n",
    "actions = ActionChains(driver)\n",
    "actions.click(cookie)\n",
    "\n",
    "for i in range(100):\n",
    "    actions.perform()\n",
    "    count = int(cookie_count.text.split(\" \")[0])\n",
    "    for item in items:\n",
    "        value = int(item.text)\n",
    "        if value <= count:\n",
    "            upgrade_actions = ActionChains(driver)\n",
    "            upgrade_actions.move_to_element(item)\n",
    "            upgrade_actions.click(item)\n",
    "            upgrade_actions.perform()"
   ]
  },
  {
   "cell_type": "code",
   "execution_count": 19,
   "metadata": {},
   "outputs": [
    {
     "name": "stdout",
     "output_type": "stream",
     "text": [
      "Enter the search stringelliot smith\n",
      "data:image/jpeg;base64,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\n"
     ]
    }
   ],
   "source": [
    "driver = webdriver.Chrome(\"C:\\Program Files (x86)\\chromedriver.exe\")\n",
    "driver.get(\"https://google.com\")\n",
    "search = driver.find_element_by_name(\"q\")\n",
    "search_text = input(\"Enter the search string\")\n",
    "search.send_keys(search_text)\n",
    "search.send_keys(Keys.RETURN)\n",
    "sleep(3)\n",
    "image = driver.find_element_by_tag_name(\"g-img\")\n",
    "img = image.find_element_by_tag_name(\"img\").get_attribute(\"src\")\n",
    "print(img)"
   ]
  },
  {
   "cell_type": "code",
   "execution_count": 22,
   "metadata": {},
   "outputs": [
    {
     "data": {
      "text/plain": [
       "('s.png', <email.message.Message at 0x27c1b6e7eb0>)"
      ]
     },
     "execution_count": 22,
     "metadata": {},
     "output_type": "execute_result"
    }
   ],
   "source": [
    "urllib.request.urlretrieve(img,'s.png')"
   ]
  },
  {
   "cell_type": "code",
   "execution_count": null,
   "metadata": {},
   "outputs": [],
   "source": [
    "data:image/jpeg;base64,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"
   ]
  }
 ],
 "metadata": {
  "kernelspec": {
   "display_name": "py3.8.5",
   "language": "python",
   "name": "py3.8.5"
  },
  "language_info": {
   "codemirror_mode": {
    "name": "ipython",
    "version": 3
   },
   "file_extension": ".py",
   "mimetype": "text/x-python",
   "name": "python",
   "nbconvert_exporter": "python",
   "pygments_lexer": "ipython3",
   "version": "3.8.5"
  }
 },
 "nbformat": 4,
 "nbformat_minor": 4
}
