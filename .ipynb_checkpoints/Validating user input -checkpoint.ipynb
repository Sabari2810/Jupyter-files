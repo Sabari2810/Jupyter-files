{
 "cells": [
  {
   "cell_type": "code",
   "execution_count": 3,
   "metadata": {},
   "outputs": [],
   "source": [
    "# normal validation\n",
    "def demo():\n",
    "    num = input(\"Enter a number : \")\n",
    "    if num.isdigit() == True:\n",
    "        return num\n",
    "    else:\n",
    "        return 'invalid'"
   ]
  },
  {
   "cell_type": "code",
   "execution_count": 5,
   "metadata": {},
   "outputs": [
    {
     "name": "stdout",
     "output_type": "stream",
     "text": [
      "Enter a number : 2\n"
     ]
    },
    {
     "data": {
      "text/plain": [
       "'2'"
      ]
     },
     "execution_count": 5,
     "metadata": {},
     "output_type": "execute_result"
    }
   ],
   "source": [
    "demo()"
   ]
  },
  {
   "cell_type": "code",
   "execution_count": 6,
   "metadata": {},
   "outputs": [],
   "source": [
    "# loop through the input statement again and again until the user gets it right\n",
    "\n",
    "def user_input():\n",
    "    isValid = False\n",
    "    while isValid == False:\n",
    "        choice = input(\"Enter a number : \")\n",
    "        if choice.isdigit():\n",
    "            isValid = True\n",
    "    return int(choice)"
   ]
  },
  {
   "cell_type": "code",
   "execution_count": 7,
   "metadata": {},
   "outputs": [
    {
     "name": "stdout",
     "output_type": "stream",
     "text": [
      "Enter a number : asdaf\n",
      "Enter a number : adafaf\n",
      "Enter a number : 12\n"
     ]
    },
    {
     "data": {
      "text/plain": [
       "12"
      ]
     },
     "execution_count": 7,
     "metadata": {},
     "output_type": "execute_result"
    }
   ],
   "source": [
    "user_input()"
   ]
  },
  {
   "cell_type": "code",
   "execution_count": 8,
   "metadata": {},
   "outputs": [],
   "source": [
    "# another method to loop through the statements\n",
    "def user_input_another():\n",
    "    choice = 'Flag'\n",
    "    while choice.isdigit() == False:\n",
    "        choice = input(\"Enter a number : \")\n",
    "    return int(choice)"
   ]
  },
  {
   "cell_type": "code",
   "execution_count": 9,
   "metadata": {},
   "outputs": [
    {
     "name": "stdout",
     "output_type": "stream",
     "text": [
      "Enter a number : ghgffhgf\n",
      "Enter a number : hhdfhhsjjhfd\n",
      "Enter a number : dhvfhhgf\n",
      "Enter a number : 535\n"
     ]
    },
    {
     "data": {
      "text/plain": [
       "535"
      ]
     },
     "execution_count": 9,
     "metadata": {},
     "output_type": "execute_result"
    }
   ],
   "source": [
    "user_input_another()"
   ]
  },
  {
   "cell_type": "code",
   "execution_count": 11,
   "metadata": {},
   "outputs": [],
   "source": [
    "#another example\n",
    "def input_validation():\n",
    "    choice = 'flag'\n",
    "    acceptable_values = range(0,10)\n",
    "    while choice.isdigit() == False:\n",
    "        choice = input(\"Enter a number between 0-10 : \")\n",
    "        if choice.isdigit() == False:\n",
    "            print(\"Not a valid type\")\n",
    "        if choice.isdigit() == True:\n",
    "            if int(choice) in acceptable_values:\n",
    "                return int(choice)\n",
    "            else:\n",
    "                choice = 'flag'\n",
    "                print(\"Number not within range 0-10 \")\n",
    "    "
   ]
  },
  {
   "cell_type": "code",
   "execution_count": 12,
   "metadata": {},
   "outputs": [
    {
     "name": "stdout",
     "output_type": "stream",
     "text": [
      "Enter a number between 0-10 : 12\n",
      "Number not within range 0-10 \n",
      "Enter a number between 0-10 : wer\n",
      "Not a valid type\n",
      "Enter a number between 0-10 : 23454636\n",
      "Number not within range 0-10 \n",
      "Enter a number between 0-10 : estw\n",
      "Not a valid type\n",
      "Enter a number between 0-10 : twtw\n",
      "Not a valid type\n",
      "Enter a number between 0-10 : 9\n"
     ]
    },
    {
     "data": {
      "text/plain": [
       "9"
      ]
     },
     "execution_count": 12,
     "metadata": {},
     "output_type": "execute_result"
    }
   ],
   "source": [
    "input_validation()"
   ]
  },
  {
   "cell_type": "code",
   "execution_count": 14,
   "metadata": {},
   "outputs": [],
   "source": [
    "#simple game\n",
    "game_list = [0,1,2]\n",
    "\n",
    "def print_list(game_list):\n",
    "    print(f\"Here is the current list : {game_list}\")"
   ]
  },
  {
   "cell_type": "code",
   "execution_count": 16,
   "metadata": {},
   "outputs": [
    {
     "name": "stdout",
     "output_type": "stream",
     "text": [
      "Here is your list [0, 1, 2]\n"
     ]
    }
   ],
   "source": [
    "print_list(game_list)"
   ]
  },
  {
   "cell_type": "code",
   "execution_count": null,
   "metadata": {},
   "outputs": [],
   "source": []
  },
  {
   "cell_type": "code",
   "execution_count": null,
   "metadata": {},
   "outputs": [],
   "source": []
  }
 ],
 "metadata": {
  "kernelspec": {
   "display_name": "Python 3",
   "language": "python",
   "name": "python3"
  },
  "language_info": {
   "codemirror_mode": {
    "name": "ipython",
    "version": 3
   },
   "file_extension": ".py",
   "mimetype": "text/x-python",
   "name": "python",
   "nbconvert_exporter": "python",
   "pygments_lexer": "ipython3",
   "version": "3.8.5"
  }
 },
 "nbformat": 4,
 "nbformat_minor": 4
}
