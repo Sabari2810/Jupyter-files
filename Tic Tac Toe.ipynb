{
 "cells": [
  {
   "cell_type": "markdown",
   "metadata": {},
   "source": [
    "# TIC TAC TOE"
   ]
  },
  {
   "cell_type": "code",
   "execution_count": 3,
   "metadata": {},
   "outputs": [],
   "source": [
    "from IPython.display import clear_output\n",
    "# printing a board\n",
    "# since the user is going to use 1-9 to place the X/O we need 10 cell list\n",
    "board = ['X','X','X','X','X',' ','X','X','X','X']\n",
    "\n",
    "def print_board(b):\n",
    "    clear_output()\n",
    "    print(b[7]+'|'+b[8]+'|'+b[9])\n",
    "    print(b[4]+'|'+b[5]+'|'+b[6])\n",
    "    print(b[1]+'|'+b[2]+'|'+b[3])\n",
    "   \n",
    "    "
   ]
  },
  {
   "cell_type": "code",
   "execution_count": 4,
   "metadata": {},
   "outputs": [
    {
     "name": "stdout",
     "output_type": "stream",
     "text": [
      "X|X|X\n",
      "X| |X\n",
      "X|X|X\n"
     ]
    }
   ],
   "source": [
    "print_board(board)"
   ]
  },
  {
   "cell_type": "code",
   "execution_count": 5,
   "metadata": {},
   "outputs": [],
   "source": [
    "def player_marker():\n",
    "    choice = 'f'\n",
    "    while choice not in ['X','O']:\n",
    "        choice = input(\"Player1, Pick your marker (X|O) : \")\n",
    "        if choice.upper() == 'X':\n",
    "            return('X','O')\n",
    "        elif choice.upper() == 'O':\n",
    "            return('O','X')\n",
    "        else:\n",
    "            choice = 'f'"
   ]
  },
  {
   "cell_type": "code",
   "execution_count": 6,
   "metadata": {},
   "outputs": [
    {
     "name": "stdout",
     "output_type": "stream",
     "text": [
      "Player1, Pick your marker (X|O) : \n",
      "Player1, Pick your marker (X|O) : o\n"
     ]
    },
    {
     "data": {
      "text/plain": [
       "('O', 'X')"
      ]
     },
     "execution_count": 6,
     "metadata": {},
     "output_type": "execute_result"
    }
   ],
   "source": [
    "player_marker()"
   ]
  },
  {
   "cell_type": "code",
   "execution_count": 7,
   "metadata": {},
   "outputs": [],
   "source": [
    "import random\n",
    "def player_turn():\n",
    "    flip = random.randint(0,1)\n",
    "    if flip == 0:\n",
    "        return 'Player 1'\n",
    "    else:\n",
    "        return 'Player 2'"
   ]
  },
  {
   "cell_type": "code",
   "execution_count": 8,
   "metadata": {},
   "outputs": [
    {
     "data": {
      "text/plain": [
       "'Player 2'"
      ]
     },
     "execution_count": 8,
     "metadata": {},
     "output_type": "execute_result"
    }
   ],
   "source": [
    "player_turn()"
   ]
  },
  {
   "cell_type": "code",
   "execution_count": 9,
   "metadata": {},
   "outputs": [],
   "source": [
    "def win_check(b,marker):\n",
    "    return (b[7] == b[8] == b[9] == marker or\n",
    "            b[4] == b[5] == b[6] == marker or\n",
    "            b[1] == b[2] == b[3] == marker or\n",
    "            b[7] == b[4] == b[1] == marker or\n",
    "            b[8] == b[5] == b[2] == marker or\n",
    "            b[9] == b[6] == b[3] == marker or\n",
    "            b[7] == b[5] == b[3] == marker or\n",
    "            b[1] == b[5] == b[9] == marker) "
   ]
  },
  {
   "cell_type": "code",
   "execution_count": 10,
   "metadata": {},
   "outputs": [
    {
     "data": {
      "text/plain": [
       "True"
      ]
     },
     "execution_count": 10,
     "metadata": {},
     "output_type": "execute_result"
    }
   ],
   "source": [
    "win_check(board,'X')"
   ]
  },
  {
   "cell_type": "code",
   "execution_count": 11,
   "metadata": {},
   "outputs": [],
   "source": [
    "def board_is_full(board):\n",
    "    for x in range(1,10):\n",
    "        if board[x] == ' ':\n",
    "            return False\n",
    "    return True"
   ]
  },
  {
   "cell_type": "code",
   "execution_count": 12,
   "metadata": {},
   "outputs": [
    {
     "data": {
      "text/plain": [
       "False"
      ]
     },
     "execution_count": 12,
     "metadata": {},
     "output_type": "execute_result"
    }
   ],
   "source": [
    "board_is_full(board)"
   ]
  },
  {
   "cell_type": "code",
   "execution_count": 25,
   "metadata": {},
   "outputs": [],
   "source": [
    "def player_position(board):\n",
    "    choice = 0\n",
    "    while choice not in range(1,10) or not space_check(board,choice):\n",
    "        choice = int(input(\"Pick a position (1-9) : \"))\n",
    "    return choice\n",
    "                \n",
    "    "
   ]
  },
  {
   "cell_type": "code",
   "execution_count": 14,
   "metadata": {},
   "outputs": [
    {
     "name": "stdout",
     "output_type": "stream",
     "text": [
      "Pick a position (1-9) : 5\n"
     ]
    },
    {
     "data": {
      "text/plain": [
       "5"
      ]
     },
     "execution_count": 14,
     "metadata": {},
     "output_type": "execute_result"
    }
   ],
   "source": [
    "player_position()"
   ]
  },
  {
   "cell_type": "code",
   "execution_count": 15,
   "metadata": {},
   "outputs": [],
   "source": [
    "def replay():\n",
    "    choice = 'invalid'\n",
    "    while choice not in ['Y','N'] and:\n",
    "        choice = input(\"Would you like to play again? (Y|N) :\")\n",
    "        if choice.upper() == \"Y\":\n",
    "            return True\n",
    "        elif choice.upper() == 'N':\n",
    "            return False"
   ]
  },
  {
   "cell_type": "code",
   "execution_count": 16,
   "metadata": {},
   "outputs": [
    {
     "name": "stdout",
     "output_type": "stream",
     "text": [
      "Would you like to play again? (Y|N) :\n",
      "Would you like to play again? (Y|N) :\n",
      "Would you like to play again? (Y|N) :n\n"
     ]
    },
    {
     "data": {
      "text/plain": [
       "False"
      ]
     },
     "execution_count": 16,
     "metadata": {},
     "output_type": "execute_result"
    }
   ],
   "source": [
    "replay()"
   ]
  },
  {
   "cell_type": "code",
   "execution_count": null,
   "metadata": {},
   "outputs": [],
   "source": []
  },
  {
   "cell_type": "code",
   "execution_count": 17,
   "metadata": {},
   "outputs": [],
   "source": [
    "def place_marker(board,marker,position):\n",
    "    board[position] = marker"
   ]
  },
  {
   "cell_type": "code",
   "execution_count": 19,
   "metadata": {},
   "outputs": [],
   "source": [
    "def space_check(board,position):\n",
    "    return board[position] == ' '"
   ]
  },
  {
   "cell_type": "code",
   "execution_count": null,
   "metadata": {},
   "outputs": [],
   "source": []
  },
  {
   "cell_type": "code",
   "execution_count": null,
   "metadata": {},
   "outputs": [],
   "source": []
  },
  {
   "cell_type": "code",
   "execution_count": 24,
   "metadata": {},
   "outputs": [
    {
     "name": "stdout",
     "output_type": "stream",
     "text": [
      "X|O|X\n",
      "O|X|O\n",
      "O| |X\n",
      "Player 1 has won\n",
      "Would you like to play again? (Y|N) :2\n",
      "Would you like to play again? (Y|N) :n\n"
     ]
    }
   ],
   "source": [
    "#tic tac toe whole game\n",
    "while True:\n",
    "    board = [' ']*10\n",
    "    print_board(board)\n",
    "    p1marker,p2marker = player_marker()\n",
    "    turn = player_turn()\n",
    "    choice = input(\"Ready to play (Y|N) : \")\n",
    "    if choice.upper() == 'Y':\n",
    "        game_on = True\n",
    "    elif choice.upper() == 'N':\n",
    "        game_on = False\n",
    "    while game_on:\n",
    "        print_board(board)\n",
    "        if turn == 'Player 1':\n",
    "            print(\"Player 1, you are on\")\n",
    "            position = player_position(board)\n",
    "            place_marker(board,p1marker,position)\n",
    "            if win_check(board,p1marker): \n",
    "                print_board(board)\n",
    "                print(\"Player 1 has won\")\n",
    "                game_on = False\n",
    "            elif board_is_full(board): \n",
    "                print_board(board)\n",
    "                print(\"Tie Game\")\n",
    "                game_on = False\n",
    "            else:\n",
    "                turn = 'Player 2'\n",
    "        else:\n",
    "            print(\"Player 2, you are on\")\n",
    "            position = player_position(board)\n",
    "            place_marker(board,p2marker,position)\n",
    "            if win_check(board,p2marker):\n",
    "                print_board(board)\n",
    "                print(\"Player 2 has won\")\n",
    "                game_on = False\n",
    "            elif board_is_full(board):\n",
    "                print_board(board)\n",
    "                print(\"Tie Game\")\n",
    "                game_on = False\n",
    "            else:\n",
    "                turn = 'Player 1'\n",
    "    \n",
    "    if not replay():\n",
    "        break"
   ]
  },
  {
   "cell_type": "code",
   "execution_count": null,
   "metadata": {},
   "outputs": [],
   "source": []
  },
  {
   "cell_type": "code",
   "execution_count": null,
   "metadata": {},
   "outputs": [],
   "source": []
  }
 ],
 "metadata": {
  "kernelspec": {
   "display_name": "Python 3",
   "language": "python",
   "name": "python3"
  },
  "language_info": {
   "codemirror_mode": {
    "name": "ipython",
    "version": 3
   },
   "file_extension": ".py",
   "mimetype": "text/x-python",
   "name": "python",
   "nbconvert_exporter": "python",
   "pygments_lexer": "ipython3",
   "version": "3.8.5"
  }
 },
 "nbformat": 4,
 "nbformat_minor": 4
}
