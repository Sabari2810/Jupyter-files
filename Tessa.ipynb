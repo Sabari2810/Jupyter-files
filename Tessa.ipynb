{
 "cells": [
  {
   "cell_type": "code",
   "execution_count": null,
   "metadata": {},
   "outputs": [],
   "source": [
    "!pip install speechrecognition"
   ]
  },
  {
   "cell_type": "code",
   "execution_count": null,
   "metadata": {},
   "outputs": [],
   "source": [
    "import speech_recognition as sr\n",
    "import webbrowser\n",
    "import playsound\n",
    "import os\n",
    "import random\n",
    "from gtts import gTTS\n",
    "\n",
    "#TODO: Shorten parsing time of listen function\n",
    "\n",
    "\n",
    "'''\n",
    "Handles all speech recognition\n",
    "'''\n",
    "speechRecognizer = sr.Recognizer()\n",
    "\n",
    "'''\n",
    "adjust_for_ambient_noise stops listening to mic for 2 seconds\n",
    "'''\n",
    "def get_audio(ask = False):\n",
    "    with sr.Microphone() as source: # source of our audio\n",
    "        if(ask):\n",
    "            sam_speak(ask)\n",
    "        speechRecognizer.adjust_for_ambient_noise(source, duration=2)\n",
    "\n",
    "        print(\"Listening...\")\n",
    "        audio = speechRecognizer.listen(source) # it is a listener for the recogniser\n",
    "        audio_load = ' '\n",
    "        try:\n",
    "            audio_load = speechRecognizer.recognize_google(audio) # to convert the audio to text\n",
    "        except sr.UnknownValueError:\n",
    "            sam_speak(\"Sorry, I did not get that\")\n",
    "        except sr.RequestError:\n",
    "            sam_speak(\"Server Down, Try again later\")\n",
    "    return audio_load\n",
    "\n",
    "\n",
    "def sam_speak(text_input):\n",
    "    tts = gTTS(text=text_input,lang='en')\n",
    "    r = random.randint(1,100000)\n",
    "    audio_file = 'audio-'+str(r)+'.mp3'\n",
    "    tts.save(audio_file)\n",
    "    playsound.playsound(audio_file)\n",
    "    print(text_input)\n",
    "    os.remove(audio_file)\n",
    "\n",
    "\n",
    "def respond(audio_data):\n",
    "    if 'what is your name' in audio_data:\n",
    "        sam_speak('my name is Sam')\n",
    "    if 'how are you' in audio_data:\n",
    "        sam_speak(\"I'm fine\")\n",
    "    if 'search' in audio_data:\n",
    "        s = get_audio(\"What do you wanna search for?\")\n",
    "        url = f\"https://www.google.com/search?q={s}\"\n",
    "        webbrowser.get().open(url)\n",
    "        sam_speak(\"here are the results for\"+s)\n",
    "    if 'location' in audio_data:\n",
    "        s = get_audio(\"what place do you wanna look for?\")\n",
    "        url = f\"https://www.google.nl/maps/place/{s}/&amp;\"\n",
    "        webbrowser.get().open(url)\n",
    "        sam_speak(\"Here are the result for the location \"+s)\n",
    "    if 'exit' in audio_data:\n",
    "        exit()\n",
    "\n",
    "sam_speak(\"How can i help you?\")\n",
    "audio_data = \"\"\n",
    "while(True):\n",
    "    audio_data = get_audio()\n",
    "    respond(audio_data)"
   ]
  },
  {
   "cell_type": "code",
   "execution_count": null,
   "metadata": {},
   "outputs": [],
   "source": [
    "print(\"How may i help you?\")\n",
    "audio_data = get_audio()\n",
    "tessa_respond(audio_data)"
   ]
  },
  {
   "cell_type": "code",
   "execution_count": null,
   "metadata": {},
   "outputs": [],
   "source": []
  }
 ],
 "metadata": {
  "kernelspec": {
   "display_name": "Python 3",
   "language": "python",
   "name": "python3"
  },
  "language_info": {
   "codemirror_mode": {
    "name": "ipython",
    "version": 3
   },
   "file_extension": ".py",
   "mimetype": "text/x-python",
   "name": "python",
   "nbconvert_exporter": "python",
   "pygments_lexer": "ipython3",
   "version": "3.8.5"
  }
 },
 "nbformat": 4,
 "nbformat_minor": 4
}
