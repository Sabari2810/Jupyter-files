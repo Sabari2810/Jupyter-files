{
 "cells": [
  {
   "cell_type": "markdown",
   "metadata": {},
   "source": [
    "## 1 - FIBONACCI SEQUENCE"
   ]
  },
  {
   "cell_type": "code",
   "execution_count": 4,
   "metadata": {},
   "outputs": [],
   "source": [
    "def fibonacci_number(num):\n",
    "    a=1\n",
    "    b=1\n",
    "    for x in range(num):\n",
    "        yield a\n",
    "        a,b = b,a+b"
   ]
  },
  {
   "cell_type": "code",
   "execution_count": 5,
   "metadata": {},
   "outputs": [
    {
     "name": "stdout",
     "output_type": "stream",
     "text": [
      "1\n",
      "1\n",
      "2\n",
      "3\n",
      "5\n",
      "8\n",
      "13\n",
      "21\n",
      "34\n",
      "55\n"
     ]
    }
   ],
   "source": [
    "for a in fibonacci_number(10):\n",
    "    print(a)"
   ]
  },
  {
   "cell_type": "markdown",
   "metadata": {},
   "source": [
    "## 2 - Prime Factorization"
   ]
  },
  {
   "cell_type": "code",
   "execution_count": 6,
   "metadata": {},
   "outputs": [],
   "source": [
    "prime_factors = []\n",
    "prime_numbers = set()\n",
    "def prime_factor():\n",
    "    num = 0\n",
    "    while True:\n",
    "        num = input(\"Enter a number: \")\n",
    "        if num.isdigit() == True:\n",
    "            num = int(num)\n",
    "            break\n",
    "    for x in range(2,num):\n",
    "        for y in range(2,x):\n",
    "            if x%y == 0:\n",
    "                break\n",
    "        else:\n",
    "            prime_numbers.add(x)\n",
    "            if num%x == 0:\n",
    "                prime_factors.append(x)"
   ]
  },
  {
   "cell_type": "code",
   "execution_count": 7,
   "metadata": {},
   "outputs": [
    {
     "name": "stdout",
     "output_type": "stream",
     "text": [
      "Enter a number: 25\n"
     ]
    }
   ],
   "source": [
    "prime_factor()"
   ]
  },
  {
   "cell_type": "code",
   "execution_count": 8,
   "metadata": {},
   "outputs": [
    {
     "data": {
      "text/plain": [
       "{2, 3, 5, 7, 11, 13, 17, 19, 23}"
      ]
     },
     "execution_count": 8,
     "metadata": {},
     "output_type": "execute_result"
    }
   ],
   "source": [
    "prime_numbers"
   ]
  },
  {
   "cell_type": "code",
   "execution_count": 9,
   "metadata": {},
   "outputs": [
    {
     "data": {
      "text/plain": [
       "[5]"
      ]
     },
     "execution_count": 9,
     "metadata": {},
     "output_type": "execute_result"
    }
   ],
   "source": [
    "prime_factors"
   ]
  },
  {
   "cell_type": "markdown",
   "metadata": {},
   "source": [
    "## 3 - Next Prime Number\n",
    "Have the program find prime numbers until the user chooses to stop asking for the next one."
   ]
  },
  {
   "cell_type": "code",
   "execution_count": 3,
   "metadata": {},
   "outputs": [],
   "source": [
    "def next_prime():\n",
    "    n = 2\n",
    "    Flag = True\n",
    "    while Flag:\n",
    "        for x in range(2,n):\n",
    "            if n%x == 0:\n",
    "                n+=1\n",
    "                break\n",
    "        else:\n",
    "            print(n)\n",
    "            choice = input('FOR NEXT PRIME TYPE (y|n) : ' )\n",
    "            if choice.upper() == 'Y':\n",
    "                n+=1\n",
    "            else:\n",
    "                Flag = False"
   ]
  },
  {
   "cell_type": "code",
   "execution_count": 4,
   "metadata": {},
   "outputs": [
    {
     "name": "stdout",
     "output_type": "stream",
     "text": [
      "2\n",
      "FOR NEXT PRIME TYPE (y|n) : y\n",
      "3\n",
      "FOR NEXT PRIME TYPE (y|n) : y\n",
      "5\n",
      "FOR NEXT PRIME TYPE (y|n) : y\n",
      "7\n",
      "FOR NEXT PRIME TYPE (y|n) : y\n",
      "11\n",
      "FOR NEXT PRIME TYPE (y|n) : y\n",
      "13\n",
      "FOR NEXT PRIME TYPE (y|n) : n\n"
     ]
    }
   ],
   "source": [
    "next_prime()"
   ]
  },
  {
   "cell_type": "markdown",
   "metadata": {},
   "source": [
    "## 4 - Fizz Buzz\n",
    "Write a program that prints the numbers from 1 to 100. But for multiples of three print “Fizz” instead of the number and for the multiples of five print “Buzz”. For numbers which are multiples of both three and five print “FizzBuzz”."
   ]
  },
  {
   "cell_type": "code",
   "execution_count": 7,
   "metadata": {},
   "outputs": [],
   "source": [
    "def FIZZ_BUZZER():\n",
    "    for n in range(1,101):\n",
    "        if n%3 == 0 and n%5 == 0:\n",
    "            print('FizzBuzz')\n",
    "        elif n % 3 == 0:\n",
    "            print('Fizz')\n",
    "        elif n%5 == 0:\n",
    "            print('Buzz')\n",
    "        else:\n",
    "            print(n)"
   ]
  },
  {
   "cell_type": "code",
   "execution_count": 8,
   "metadata": {},
   "outputs": [
    {
     "name": "stdout",
     "output_type": "stream",
     "text": [
      "1\n",
      "2\n",
      "Fizz\n",
      "4\n",
      "Buzz\n",
      "Fizz\n",
      "7\n",
      "8\n",
      "Fizz\n",
      "Buzz\n",
      "11\n",
      "Fizz\n",
      "13\n",
      "14\n",
      "FizzBuzz\n",
      "16\n",
      "17\n",
      "Fizz\n",
      "19\n",
      "Buzz\n",
      "Fizz\n",
      "22\n",
      "23\n",
      "Fizz\n",
      "Buzz\n",
      "26\n",
      "Fizz\n",
      "28\n",
      "29\n",
      "FizzBuzz\n",
      "31\n",
      "32\n",
      "Fizz\n",
      "34\n",
      "Buzz\n",
      "Fizz\n",
      "37\n",
      "38\n",
      "Fizz\n",
      "Buzz\n",
      "41\n",
      "Fizz\n",
      "43\n",
      "44\n",
      "FizzBuzz\n",
      "46\n",
      "47\n",
      "Fizz\n",
      "49\n",
      "Buzz\n",
      "Fizz\n",
      "52\n",
      "53\n",
      "Fizz\n",
      "Buzz\n",
      "56\n",
      "Fizz\n",
      "58\n",
      "59\n",
      "FizzBuzz\n",
      "61\n",
      "62\n",
      "Fizz\n",
      "64\n",
      "Buzz\n",
      "Fizz\n",
      "67\n",
      "68\n",
      "Fizz\n",
      "Buzz\n",
      "71\n",
      "Fizz\n",
      "73\n",
      "74\n",
      "FizzBuzz\n",
      "76\n",
      "77\n",
      "Fizz\n",
      "79\n",
      "Buzz\n",
      "Fizz\n",
      "82\n",
      "83\n",
      "Fizz\n",
      "Buzz\n",
      "86\n",
      "Fizz\n",
      "88\n",
      "89\n",
      "FizzBuzz\n",
      "91\n",
      "92\n",
      "Fizz\n",
      "94\n",
      "Buzz\n",
      "Fizz\n",
      "97\n",
      "98\n",
      "Fizz\n",
      "Buzz\n"
     ]
    }
   ],
   "source": [
    "FIZZ_BUZZER()"
   ]
  },
  {
   "cell_type": "markdown",
   "metadata": {},
   "source": [
    "## 5 - Reverse a String\n",
    "Enter a string and the program will reverse it and print it out."
   ]
  },
  {
   "cell_type": "code",
   "execution_count": 6,
   "metadata": {},
   "outputs": [],
   "source": [
    "def reverse_string():\n",
    "    value = input('Enter a string : ')\n",
    "    print(\"Reversed string : \" +value[::-1])"
   ]
  },
  {
   "cell_type": "code",
   "execution_count": 7,
   "metadata": {},
   "outputs": [
    {
     "name": "stdout",
     "output_type": "stream",
     "text": [
      "Enter a string : Between The Bars\n",
      "Reversed string : sraB ehT neewteB\n"
     ]
    }
   ],
   "source": [
    "reverse_string()"
   ]
  },
  {
   "cell_type": "code",
   "execution_count": 8,
   "metadata": {},
   "outputs": [
    {
     "name": "stdout",
     "output_type": "stream",
     "text": [
      "Enter a string : 1234567890\n",
      "Reversed string : 0987654321\n"
     ]
    }
   ],
   "source": [
    "reverse_string()"
   ]
  },
  {
   "cell_type": "markdown",
   "metadata": {},
   "source": [
    "## 6 - Pig Latin \n",
    "Pig Latin is a game of alterations played on the English language game. To create the Pig Latin form of an English word the initial consonant sound is transposed to the end of the word and an ay is affixed (Ex.: \"banana\" would yield anana-bay). Read Wikipedia for more information on rules."
   ]
  },
  {
   "cell_type": "code",
   "execution_count": 22,
   "metadata": {},
   "outputs": [],
   "source": [
    "vowels = ['a','e','i','o','u']\n",
    "def pig_latin():\n",
    "    sentence = input(\"ENTER THE WORD :\")\n",
    "    pig_latin_word = ''\n",
    "    split_words = sentence.split(' ')\n",
    "    for n in range(len(split_words)):\n",
    "        word = split_words[n]\n",
    "        for x in range(len(word)):\n",
    "            if word[x] not in vowels:\n",
    "                prefix = word[:x+1]\n",
    "                suffix = word[x+1:]\n",
    "                word = suffix+prefix+'ay'\n",
    "                pig_latin_word+=' '+word\n",
    "                break\n",
    "    print('Pig Latin :'+pig_latin_word)\n",
    "    "
   ]
  },
  {
   "cell_type": "code",
   "execution_count": 24,
   "metadata": {},
   "outputs": [
    {
     "name": "stdout",
     "output_type": "stream",
     "text": [
      "ENTER THE WORD :pig latin\n",
      "Pig Latin : igpay atinlay\n"
     ]
    }
   ],
   "source": [
    "pig_latin()"
   ]
  },
  {
   "cell_type": "markdown",
   "metadata": {},
   "source": [
    "## 7 - Count Vowels \n",
    "Enter a string and the program counts the number of vowels in the text. For added complexity have it report a sum of each vowel found."
   ]
  },
  {
   "cell_type": "code",
   "execution_count": 41,
   "metadata": {},
   "outputs": [],
   "source": [
    "alphabet = {ch:n for n, ch in enumerate(string.ascii_lowercase,start=1)}\n",
    "vowels = ['a','e','i','o','u']"
   ]
  },
  {
   "cell_type": "code",
   "execution_count": 55,
   "metadata": {},
   "outputs": [],
   "source": [
    "def count_vowels():\n",
    "    word = input(\"Enter a word or sentence : \")\n",
    "    vowels_in_word = []\n",
    "    sum_of_vowels = 0\n",
    "    for n in range(len(word)):\n",
    "        if word[n] in vowels:\n",
    "            vowels_in_word.append(word[n])\n",
    "    for x in range(len(vowels_in_word)):\n",
    "        sum_of_vowels+=alphabet[vowels_in_word[x]]\n",
    "    print(f\"sum of vowels : {sum_of_vowels}\")"
   ]
  },
  {
   "cell_type": "code",
   "execution_count": 57,
   "metadata": {},
   "outputs": [
    {
     "name": "stdout",
     "output_type": "stream",
     "text": [
      "Enter a word or sentence : Are you gonna bark all day,little doggy,or are you gonna bite\n",
      "sum of vowels : 176\n"
     ]
    }
   ],
   "source": [
    "count_vowels()"
   ]
  },
  {
   "cell_type": "markdown",
   "metadata": {},
   "source": [
    "## 8 - Check if Palindrome\n",
    "Checks if the string entered by the user is a palindrome. That is that it reads the same forwards as backwards like “racecar”"
   ]
  },
  {
   "cell_type": "code",
   "execution_count": 62,
   "metadata": {},
   "outputs": [],
   "source": [
    "def check_palindrome():\n",
    "    word = input(\"Enter a word : \")\n",
    "    word_reverse = word[::-1]\n",
    "    if word == word_reverse:\n",
    "        print(word+\" is a palindrome\")\n",
    "    else:\n",
    "        print(word+\" is not a palindrome\")"
   ]
  },
  {
   "cell_type": "code",
   "execution_count": 64,
   "metadata": {},
   "outputs": [
    {
     "name": "stdout",
     "output_type": "stream",
     "text": [
      "Enter a word : racecar\n",
      "racecar is a palindrome\n"
     ]
    }
   ],
   "source": [
    "check_palindrome()"
   ]
  },
  {
   "cell_type": "markdown",
   "metadata": {},
   "source": [
    "## 9 - Count Words in a String \n",
    "Counts the number of individual words in a string. For added complexity read these strings in from a text file and generate a summary."
   ]
  },
  {
   "cell_type": "code",
   "execution_count": 1,
   "metadata": {},
   "outputs": [],
   "source": [
    "def words_in_string():\n",
    "    f = open(\"loremipsum.txt\",mode='r')\n",
    "    text = f.read()\n",
    "    text = text.replace('.','')\n",
    "    split_words = text.split()\n",
    "    print(len(split_words))\n",
    "    f.close()"
   ]
  },
  {
   "cell_type": "code",
   "execution_count": 2,
   "metadata": {},
   "outputs": [
    {
     "name": "stdout",
     "output_type": "stream",
     "text": [
      "5467\n"
     ]
    }
   ],
   "source": [
    "words_in_string()"
   ]
  },
  {
   "cell_type": "markdown",
   "metadata": {},
   "source": [
    "## 10 - Coin Flip Simulation \n",
    "Write some code that simulates flipping a single coin however many times the user decides. The code should record the outcomes and count the number of tails and heads."
   ]
  },
  {
   "cell_type": "code",
   "execution_count": 156,
   "metadata": {},
   "outputs": [],
   "source": [
    "import random\n",
    "def coin_flip():\n",
    "    flag = True\n",
    "    heads = 0\n",
    "    tails = 0\n",
    "    while flag:\n",
    "        choice = ''\n",
    "        while True:\n",
    "            choice = input(\"Would you like to flip the coin (Y|N) :\")\n",
    "            if choice.upper() in ['Y','N']:\n",
    "                choice = choice.upper()\n",
    "                break\n",
    "        if choice == 'Y':\n",
    "            flip = random.randint(0,1)\n",
    "            if flip == 0:\n",
    "                heads+=1\n",
    "            else:\n",
    "                tails+=1\n",
    "        else:\n",
    "            print(f\"no of heads : {heads}\")\n",
    "            print(f\"no of tails : {tails}\")\n",
    "            flag = False"
   ]
  },
  {
   "cell_type": "code",
   "execution_count": 161,
   "metadata": {},
   "outputs": [
    {
     "name": "stdout",
     "output_type": "stream",
     "text": [
      "Would you like to flip the coin (Y|N) :y\n",
      "Would you like to flip the coin (Y|N) :y\n",
      "Would you like to flip the coin (Y|N) :y\n",
      "Would you like to flip the coin (Y|N) :n\n",
      "no of heads : 2\n",
      "no of tails : 1\n"
     ]
    }
   ],
   "source": [
    "coin_flip()"
   ]
  },
  {
   "cell_type": "code",
   "execution_count": 162,
   "metadata": {},
   "outputs": [],
   "source": [
    "a = 10"
   ]
  },
  {
   "cell_type": "code",
   "execution_count": 163,
   "metadata": {},
   "outputs": [
    {
     "data": {
      "text/plain": [
       "10"
      ]
     },
     "execution_count": 163,
     "metadata": {},
     "output_type": "execute_result"
    }
   ],
   "source": [
    "a"
   ]
  },
  {
   "cell_type": "code",
   "execution_count": null,
   "metadata": {},
   "outputs": [],
   "source": []
  }
 ],
 "metadata": {
  "kernelspec": {
   "display_name": "Python 3",
   "language": "python",
   "name": "python3"
  },
  "language_info": {
   "codemirror_mode": {
    "name": "ipython",
    "version": 3
   },
   "file_extension": ".py",
   "mimetype": "text/x-python",
   "name": "python",
   "nbconvert_exporter": "python",
   "pygments_lexer": "ipython3",
   "version": "3.8.5"
  }
 },
 "nbformat": 4,
 "nbformat_minor": 4
}
