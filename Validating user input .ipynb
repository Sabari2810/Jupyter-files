{
 "cells": [
  {
   "cell_type": "code",
   "execution_count": 3,
   "metadata": {},
   "outputs": [],
   "source": [
    "# normal validation\n",
    "def demo():\n",
    "    num = input(\"Enter a number : \")\n",
    "    if num.isdigit() == True:\n",
    "        return num\n",
    "    else:\n",
    "        return 'invalid'"
   ]
  },
  {
   "cell_type": "code",
   "execution_count": 5,
   "metadata": {},
   "outputs": [
    {
     "name": "stdout",
     "output_type": "stream",
     "text": [
      "Enter a number : 2\n"
     ]
    },
    {
     "data": {
      "text/plain": [
       "'2'"
      ]
     },
     "execution_count": 5,
     "metadata": {},
     "output_type": "execute_result"
    }
   ],
   "source": [
    "demo()"
   ]
  },
  {
   "cell_type": "code",
   "execution_count": 6,
   "metadata": {},
   "outputs": [],
   "source": [
    "# loop through the input statement again and again until the user gets it right\n",
    "\n",
    "def user_input():\n",
    "    isValid = False\n",
    "    while isValid == False:\n",
    "        choice = input(\"Enter a number : \")\n",
    "        if choice.isdigit():\n",
    "            isValid = True\n",
    "    return int(choice)"
   ]
  },
  {
   "cell_type": "code",
   "execution_count": 7,
   "metadata": {},
   "outputs": [
    {
     "name": "stdout",
     "output_type": "stream",
     "text": [
      "Enter a number : asdaf\n",
      "Enter a number : adafaf\n",
      "Enter a number : 12\n"
     ]
    },
    {
     "data": {
      "text/plain": [
       "12"
      ]
     },
     "execution_count": 7,
     "metadata": {},
     "output_type": "execute_result"
    }
   ],
   "source": [
    "user_input()"
   ]
  },
  {
   "cell_type": "code",
   "execution_count": 8,
   "metadata": {},
   "outputs": [],
   "source": [
    "# another method to loop through the statements\n",
    "def user_input_another():\n",
    "    choice = 'Flag'\n",
    "    while choice.isdigit() == False:\n",
    "        choice = input(\"Enter a number : \")\n",
    "    return int(choice)"
   ]
  },
  {
   "cell_type": "code",
   "execution_count": 9,
   "metadata": {},
   "outputs": [
    {
     "name": "stdout",
     "output_type": "stream",
     "text": [
      "Enter a number : ghgffhgf\n",
      "Enter a number : hhdfhhsjjhfd\n",
      "Enter a number : dhvfhhgf\n",
      "Enter a number : 535\n"
     ]
    },
    {
     "data": {
      "text/plain": [
       "535"
      ]
     },
     "execution_count": 9,
     "metadata": {},
     "output_type": "execute_result"
    }
   ],
   "source": [
    "user_input_another()"
   ]
  },
  {
   "cell_type": "code",
   "execution_count": 11,
   "metadata": {},
   "outputs": [],
   "source": [
    "#another example\n",
    "def input_validation():\n",
    "    choice = 'flag'\n",
    "    acceptable_values = range(0,10)\n",
    "    while choice.isdigit() == False:\n",
    "        choice = input(\"Enter a number between 0-10 : \")\n",
    "        if choice.isdigit() == False:\n",
    "            print(\"Not a valid type\")\n",
    "        if choice.isdigit() == True:\n",
    "            if int(choice) in acceptable_values:\n",
    "                return int(choice)\n",
    "            else:\n",
    "                choice = 'flag'\n",
    "                print(\"Number not within range 0-10 \")\n",
    "    "
   ]
  },
  {
   "cell_type": "code",
   "execution_count": 12,
   "metadata": {},
   "outputs": [
    {
     "name": "stdout",
     "output_type": "stream",
     "text": [
      "Enter a number between 0-10 : 12\n",
      "Number not within range 0-10 \n",
      "Enter a number between 0-10 : wer\n",
      "Not a valid type\n",
      "Enter a number between 0-10 : 23454636\n",
      "Number not within range 0-10 \n",
      "Enter a number between 0-10 : estw\n",
      "Not a valid type\n",
      "Enter a number between 0-10 : twtw\n",
      "Not a valid type\n",
      "Enter a number between 0-10 : 9\n"
     ]
    },
    {
     "data": {
      "text/plain": [
       "9"
      ]
     },
     "execution_count": 12,
     "metadata": {},
     "output_type": "execute_result"
    }
   ],
   "source": [
    "input_validation()"
   ]
  },
  {
   "cell_type": "code",
   "execution_count": 1,
   "metadata": {},
   "outputs": [],
   "source": [
    "#simple game\n",
    "game_list = [0,1,2]\n",
    "\n",
    "def print_list(game_list):\n",
    "    print(f\"Here is the current list : {game_list}\")"
   ]
  },
  {
   "cell_type": "code",
   "execution_count": 2,
   "metadata": {},
   "outputs": [
    {
     "name": "stdout",
     "output_type": "stream",
     "text": [
      "Here is the current list : [0, 1, 2]\n"
     ]
    }
   ],
   "source": [
    "print_list(game_list)"
   ]
  },
  {
   "cell_type": "code",
   "execution_count": 3,
   "metadata": {},
   "outputs": [],
   "source": [
    "def position_choice():\n",
    "    choice = 'invalid'\n",
    "    while choice not in ['0','1','2']:\n",
    "        choice = input(\"pick a position (0,1,2):\")\n",
    "        if choice not in ['0','1','2']:\n",
    "            print(\"Sorry, not a valid position\")\n",
    "    return int(choice)"
   ]
  },
  {
   "cell_type": "code",
   "execution_count": 4,
   "metadata": {},
   "outputs": [
    {
     "name": "stdout",
     "output_type": "stream",
     "text": [
      "pick a position (0,1,2):\n",
      "Sorry, not a valid position\n",
      "pick a position (0,1,2):0\n"
     ]
    },
    {
     "data": {
      "text/plain": [
       "0"
      ]
     },
     "execution_count": 4,
     "metadata": {},
     "output_type": "execute_result"
    }
   ],
   "source": [
    "position_choice()"
   ]
  },
  {
   "cell_type": "code",
   "execution_count": 5,
   "metadata": {},
   "outputs": [],
   "source": [
    "def replacement_string(game_list,position):\n",
    "    result = input(\"Enter the string to place at a position :\")\n",
    "    game_list[position] = result\n",
    "    return game_list"
   ]
  },
  {
   "cell_type": "code",
   "execution_count": 6,
   "metadata": {},
   "outputs": [
    {
     "name": "stdout",
     "output_type": "stream",
     "text": [
      "Enter the string to place at a position :hgfdgfd\n"
     ]
    },
    {
     "data": {
      "text/plain": [
       "[0, 'hgfdgfd', 2]"
      ]
     },
     "execution_count": 6,
     "metadata": {},
     "output_type": "execute_result"
    }
   ],
   "source": [
    "replacement_string(game_list,1)"
   ]
  },
  {
   "cell_type": "code",
   "execution_count": 7,
   "metadata": {},
   "outputs": [],
   "source": [
    "def game_on():\n",
    "    choice = 'invalid'\n",
    "    while choice not in ['Y','N']:\n",
    "        choice = input(\"Wanna keep playing? (Y : N)\")\n",
    "        if choice == 'Y':\n",
    "            return True\n",
    "        elif choice == 'N':\n",
    "            return False"
   ]
  },
  {
   "cell_type": "code",
   "execution_count": 8,
   "metadata": {},
   "outputs": [
    {
     "name": "stdout",
     "output_type": "stream",
     "text": [
      "Wanna keep playing? (Y : N)N\n"
     ]
    },
    {
     "data": {
      "text/plain": [
       "False"
      ]
     },
     "execution_count": 8,
     "metadata": {},
     "output_type": "execute_result"
    }
   ],
   "source": [
    "game_on()"
   ]
  },
  {
   "cell_type": "code",
   "execution_count": 9,
   "metadata": {},
   "outputs": [],
   "source": [
    "def simple_game():\n",
    "    game_list = [0,1,2]\n",
    "    game = True\n",
    "    while game:\n",
    "        print_list(game_list)\n",
    "    \n",
    "        choice = position_choice()\n",
    "    \n",
    "        game_list = replacement_string(game_list,choice)\n",
    "    \n",
    "        print_list(game_list)\n",
    "    \n",
    "        game = game_on()\n",
    "        "
   ]
  },
  {
   "cell_type": "code",
   "execution_count": 10,
   "metadata": {},
   "outputs": [
    {
     "name": "stdout",
     "output_type": "stream",
     "text": [
      "Here is the current list : [0, 1, 2]\n",
      "pick a position (0,1,2):0\n",
      "Enter the string to place at a position :gfgdsgs\n",
      "Here is the current list : ['gfgdsgs', 1, 2]\n",
      "Wanna keep playing? (Y : N)N\n"
     ]
    }
   ],
   "source": [
    "simple_game()"
   ]
  },
  {
   "cell_type": "code",
   "execution_count": null,
   "metadata": {},
   "outputs": [],
   "source": []
  }
 ],
 "metadata": {
  "kernelspec": {
   "display_name": "Python 3",
   "language": "python",
   "name": "python3"
  },
  "language_info": {
   "codemirror_mode": {
    "name": "ipython",
    "version": 3
   },
   "file_extension": ".py",
   "mimetype": "text/x-python",
   "name": "python",
   "nbconvert_exporter": "python",
   "pygments_lexer": "ipython3",
   "version": "3.8.5"
  }
 },
 "nbformat": 4,
 "nbformat_minor": 4
}
