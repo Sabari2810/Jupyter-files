{
 "cells": [
  {
   "cell_type": "code",
   "execution_count": null,
   "metadata": {},
   "outputs": [],
   "source": [
    "#black jack"
   ]
  },
  {
   "cell_type": "code",
   "execution_count": null,
   "metadata": {},
   "outputs": [],
   "source": [
    "import random"
   ]
  },
  {
   "cell_type": "code",
   "execution_count": null,
   "metadata": {},
   "outputs": [],
   "source": [
    "suits = (\"Hearts\",\"Diamonds\",\"Spades\",\"Clubs\")\n",
    "ranks = (\"Two\",\"Three\",\"Four\",\"Five\",\"Six\",\"Seven\",\"Eight\",\"Nine\",\"Ten\",\"Jack\",\"Queen\",\"King\",\"Ace\")\n",
    "values = {\"Two\":2,\"Three\":3,\"Four\":4,\"Five\":5,\"Six\":6,\"Seven\":7,\"Eight\":8,\"Nine\":9,\"Ten\":10,\"Jack\":10,\"Queen\":10,\"King\":10,\"Ace\":1}"
   ]
  },
  {
   "cell_type": "code",
   "execution_count": null,
   "metadata": {},
   "outputs": [],
   "source": [
    "# card class\n",
    "class Card:\n",
    "    def __init__(self,suit,rank):\n",
    "        self.suit = suit\n",
    "        self.rank = rank\n",
    "        self.value = values[rank]\n",
    "        \n",
    "    def __str__(self):\n",
    "        return f\"{self.rank} of {self.suit}\"\n",
    "    "
   ]
  },
  {
   "cell_type": "code",
   "execution_count": null,
   "metadata": {},
   "outputs": [],
   "source": [
    "two_hearts = Card(\"Hearts\",\"Two\")"
   ]
  },
  {
   "cell_type": "code",
   "execution_count": null,
   "metadata": {},
   "outputs": [],
   "source": [
    "class Deck:\n",
    "    def __init__(self):\n",
    "        self.all_cards = []\n",
    "        \n",
    "        for suit in suits:\n",
    "            for rank in ranks:\n",
    "                create_card = Card(suit,rank)\n",
    "                self.all_cards.append(create_card)\n",
    "                \n",
    "    def shuffle(self):\n",
    "        random.shuffle(self.all_cards)\n",
    "        \n",
    "    def deal(self):\n",
    "        return self.all_cards.pop(0)"
   ]
  },
  {
   "cell_type": "code",
   "execution_count": null,
   "metadata": {},
   "outputs": [],
   "source": [
    "new_deck = Deck()\n",
    "new_deck.shuffle()\n",
    "s = new_deck.deal()\n",
    "print(s)"
   ]
  },
  {
   "cell_type": "code",
   "execution_count": null,
   "metadata": {},
   "outputs": [],
   "source": [
    "for card in new_deck.all_cards:\n",
    "    print(card)"
   ]
  },
  {
   "cell_type": "code",
   "execution_count": null,
   "metadata": {},
   "outputs": [],
   "source": [
    "class Player:\n",
    "    def __init__(self,name,balance=0):\n",
    "        self.name = name\n",
    "        self.balance = balance\n",
    "        \n",
    "    def __str__(self):\n",
    "        return f\"{self.name} has {self.balance} $\"\n",
    "    \n",
    "    def bust(self):\n",
    "        print (f,\"{self.name} is busted\")\n",
    "        \n",
    "    def deal_card(self):\n",
    "        choice = \"invalid\"\n",
    "        while choice not in [\"X\",\"Y\"]:\n",
    "            choice = input(f\"{self.name} Would you wanna deal one more card? (Y|N)\")\n",
    "            if choice.upper() in \"Y\":\n",
    "                return True\n",
    "            elif choice.upper() in \"N\":\n",
    "                return False\n",
    "        "
   ]
  },
  {
   "cell_type": "code",
   "execution_count": null,
   "metadata": {},
   "outputs": [],
   "source": [
    "player = Player(\"sabari\",500)\n",
    "dealer = Player(\"dealer\",5000)\n",
    "print(player)\n",
    "print(dealer)"
   ]
  },
  {
   "cell_type": "code",
   "execution_count": null,
   "metadata": {},
   "outputs": [],
   "source": [
    "player.deal_card()"
   ]
  },
  {
   "cell_type": "code",
   "execution_count": null,
   "metadata": {},
   "outputs": [],
   "source": []
  },
  {
   "cell_type": "code",
   "execution_count": 4,
   "metadata": {},
   "outputs": [],
   "source": [
    "def get_values(value):\n",
    "    if type(value) == type([]):\n",
    "        sum = 0\n",
    "        for x in value:\n",
    "            sum+=x\n",
    "    return sum"
   ]
  },
  {
   "cell_type": "code",
   "execution_count": 5,
   "metadata": {},
   "outputs": [
    {
     "data": {
      "text/plain": [
       "15"
      ]
     },
     "execution_count": 5,
     "metadata": {},
     "output_type": "execute_result"
    }
   ],
   "source": [
    "get_values([1,2,3,4,5])"
   ]
  },
  {
   "cell_type": "code",
   "execution_count": null,
   "metadata": {},
   "outputs": [],
   "source": []
  },
  {
   "cell_type": "code",
   "execution_count": null,
   "metadata": {},
   "outputs": [],
   "source": []
  },
  {
   "cell_type": "code",
   "execution_count": null,
   "metadata": {},
   "outputs": [],
   "source": [
    "# game logic\n",
    "game_on = True\n",
    "while game_on:\n",
    "    # empty table\n",
    "    player_cards = []\n",
    "    dealer_cards = []\n",
    "    # dealing two cards to both player and dealer\n",
    "    for x in range(2):\n",
    "        player_cards.append(new_deck.deal())\n",
    "        dealer_cards.append(new_deck.deal())\n",
    "    # player cards total value\n",
    "    player_cards_total = 0\n",
    "    for x in player_cards:\n",
    "        player_cards_total+=x.value\n",
    "    # dealer cards total\n",
    "    dealer_cards_total = 0\n",
    "    for x in dealer_cards:\n",
    "        dealer_cards_total+=x.value\n",
    "        \n",
    "    print(f\"Player total  {player_cards_total}\")\n",
    "    \n",
    "    deal_again_player = True\n",
    "    deal_again_dealer = True\n",
    "    while deal_again_player:\n",
    "        choice = player.deal_card()\n",
    "        if choice:\n",
    "            player_cards.append(new_deck.deal())\n",
    "            player_cards_total = 0\n",
    "            for x in player_cards:\n",
    "                player_cards_total+=x.value\n",
    "            print(f\"Player total  {player_cards_total}\")\n",
    "            if(player_cards_total > 21):\n",
    "                print(\"Dealer wins\")\n",
    "                deal_again_dealer = False\n",
    "                break\n",
    "        else:\n",
    "            print(f\"Player total  {player_cards_total}\")\n",
    "            break\n",
    "            \n",
    "    print(\"Dealers turn\")\n",
    "    print(f\"Dealer total {dealer_cards_total}\")\n",
    "  \n",
    "    while deal_again_dealer:\n",
    "        choice = dealer.deal_card()\n",
    "        if choice:\n",
    "            player_cards.append(new_deck.deal())\n",
    "            player_cards_total = 0\n",
    "            for x in player_cards:\n",
    "                player_cards_total+=x.value\n",
    "            print(f\"Dealer total  {player_cards_total}\")\n",
    "            if(player_cards_total > 21):\n",
    "                print(\"Dealer wins\")\n",
    "                deal_again_player = False\n",
    "                break\n",
    "        else:\n",
    "            print(f\"Dealer total  {player_cards_total}\")\n",
    "            break      "
   ]
  },
  {
   "cell_type": "code",
   "execution_count": null,
   "metadata": {},
   "outputs": [],
   "source": []
  }
 ],
 "metadata": {
  "kernelspec": {
   "display_name": "Python 3",
   "language": "python",
   "name": "python3"
  },
  "language_info": {
   "codemirror_mode": {
    "name": "ipython",
    "version": 3
   },
   "file_extension": ".py",
   "mimetype": "text/x-python",
   "name": "python",
   "nbconvert_exporter": "python",
   "pygments_lexer": "ipython3",
   "version": "3.8.5"
  }
 },
 "nbformat": 4,
 "nbformat_minor": 4
}
