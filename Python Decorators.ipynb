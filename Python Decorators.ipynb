{
 "cells": [
  {
   "cell_type": "code",
   "execution_count": null,
   "metadata": {},
   "outputs": [],
   "source": [
    "# python decorators"
   ]
  },
  {
   "cell_type": "code",
   "execution_count": 8,
   "metadata": {},
   "outputs": [],
   "source": [
    "def func(needs_a_func):\n",
    "    \n",
    "    def inside_func():\n",
    "        print(\" decorating before the original function\")\n",
    "        \n",
    "        print(needs_a_func())\n",
    "        \n",
    "        print(\" decorating after the original function\")\n",
    "    inside_func()"
   ]
  },
  {
   "cell_type": "code",
   "execution_count": 9,
   "metadata": {},
   "outputs": [
    {
     "name": "stdout",
     "output_type": "stream",
     "text": [
      " decorating before the original function\n",
      "\t i'm inside woooooooooooooooo\n",
      " decorating after the original function\n"
     ]
    }
   ],
   "source": [
    "@func\n",
    "def original_func():\n",
    "    return \"\\t i'm inside woooooooooooooooo\""
   ]
  },
  {
   "cell_type": "code",
   "execution_count": null,
   "metadata": {},
   "outputs": [],
   "source": []
  }
 ],
 "metadata": {
  "kernelspec": {
   "display_name": "Python 3",
   "language": "python",
   "name": "python3"
  },
  "language_info": {
   "codemirror_mode": {
    "name": "ipython",
    "version": 3
   },
   "file_extension": ".py",
   "mimetype": "text/x-python",
   "name": "python",
   "nbconvert_exporter": "python",
   "pygments_lexer": "ipython3",
   "version": "3.8.5"
  }
 },
 "nbformat": 4,
 "nbformat_minor": 4
}
