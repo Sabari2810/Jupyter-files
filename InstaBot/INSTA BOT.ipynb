{
 "cells": [
  {
   "cell_type": "code",
   "execution_count": 11,
   "metadata": {},
   "outputs": [],
   "source": [
    "from selenium import webdriver\n",
    "from selenium.webdriver.common.keys import Keys\n",
    "from time import sleep\n",
    "import getpass"
   ]
  },
  {
   "cell_type": "code",
   "execution_count": 12,
   "metadata": {},
   "outputs": [],
   "source": [
    "class InstaBot:\n",
    "    def __init__(self,username,password):\n",
    "        self.driver = webdriver.Chrome()\n",
    "        self.driver.get(\"https://instagram.com\")\n",
    "        sleep(2)\n",
    "        self.driver.find_element_by_xpath(\"//input[@name=\\\"username\\\"]\")\\\n",
    "            .send_keys(username)\n",
    "        self.driver.find_element_by_xpath(\"//input[@name=\\\"password\\\"]\")\\\n",
    "            .send_keys(password)\n",
    "        self.driver.find_element_by_xpath('//button[@type=\"submit\"]').click()\n",
    "        sleep(5)\n",
    "        self.driver.find_element_by_xpath(\"//button[text()='Not Now']\").click()\n",
    "        sleep(2)\n",
    "        self.driver.find_element_by_link_text(\"sabarii_v\").click() # give your profile name here\n",
    "        sleep(4)\n",
    "        \n",
    "    def _get_names(self,path):\n",
    "        scroll_bar = self.driver.find_element_by_xpath(path)\n",
    "        sleep(2)\n",
    "        last_ht,ht = 0,1\n",
    "        while last_ht != ht:\n",
    "            last_ht = ht\n",
    "            sleep(1)\n",
    "            ht = self.driver.execute_script(\"\"\"\n",
    "                arguments[0].scrollTo(0,arguments[0].scrollHeight);\n",
    "                return arguments[0].scrollHeight;\n",
    "                \"\"\",scroll_bar)\n",
    "        \n",
    "        links = scroll_bar.find_elements_by_tag_name(\"a\")\n",
    "        \n",
    "        names = [link.text for link in links if link.text !='']\n",
    "        return names\n",
    "\n",
    "    def acc_following(self):\n",
    "        self.driver.find_element_by_xpath(\"//a[text()=' following']\").click()\n",
    "        following = self._get_names(\"/html/body/div[4]/div/div/div[2]\")\n",
    "        return following\n",
    "    def acc_followers(self):\n",
    "        self.driver.find_element_by_xpath(\"//a[text()=' followers']\").click()\n",
    "        followers = self._get_names(\"/html/body/div[4]/div/div/div[2]\")\n",
    "        self.driver.find_element_by_xpath(\"/html/body/div[4]/div/div/div[1]/div/div[2]/button\").click()\n",
    "        return followers\n",
    "    def bad_eggs(self):\n",
    "        bad_eggs_list = []\n",
    "        followers = s.acc_followers()\n",
    "        following = s.acc_following()\n",
    "        for name in following:\n",
    "            if name not in followers:\n",
    "                bad_eggs_list.append(name)\n",
    "        return bad_eggs_list"
   ]
  },
  {
   "cell_type": "code",
   "execution_count": 10,
   "metadata": {},
   "outputs": [],
   "source": [
    "email = getpass.getpass(\"Enter your Email\")\n",
    "password = getpass.getpass(\"Enter your password\")\n",
    "s = InstaBot(email,password)\n",
    "bad_eggs = s.bad_eggs()"
   ]
  },
  {
   "cell_type": "code",
   "execution_count": null,
   "metadata": {},
   "outputs": [],
   "source": []
  },
  {
   "cell_type": "code",
   "execution_count": 6,
   "metadata": {},
   "outputs": [],
   "source": []
  },
  {
   "cell_type": "code",
   "execution_count": null,
   "metadata": {},
   "outputs": [],
   "source": []
  }
 ],
 "metadata": {
  "kernelspec": {
   "display_name": "py3.8.5",
   "language": "python",
   "name": "py3.8.5"
  },
  "language_info": {
   "codemirror_mode": {
    "name": "ipython",
    "version": 3
   },
   "file_extension": ".py",
   "mimetype": "text/x-python",
   "name": "python",
   "nbconvert_exporter": "python",
   "pygments_lexer": "ipython3",
   "version": "3.8.5"
  }
 },
 "nbformat": 4,
 "nbformat_minor": 4
}
